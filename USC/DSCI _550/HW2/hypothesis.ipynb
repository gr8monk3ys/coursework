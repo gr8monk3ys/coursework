{
 "cells": [
  {
   "cell_type": "markdown",
   "id": "c441e78c",
   "metadata": {},
   "source": [
    "### You have the following training dataset about houses. We want to classify if a house is a mid-class family home or not based on the price and size of a house."
   ]
  },
  {
   "cell_type": "code",
   "execution_count": 1,
   "id": "b56ca485",
   "metadata": {},
   "outputs": [
    {
     "data": {
      "text/html": [
       "<div>\n",
       "<style scoped>\n",
       "    .dataframe tbody tr th:only-of-type {\n",
       "        vertical-align: middle;\n",
       "    }\n",
       "\n",
       "    .dataframe tbody tr th {\n",
       "        vertical-align: top;\n",
       "    }\n",
       "\n",
       "    .dataframe thead th {\n",
       "        text-align: right;\n",
       "    }\n",
       "</style>\n",
       "<table border=\"1\" class=\"dataframe\">\n",
       "  <thead>\n",
       "    <tr style=\"text-align: right;\">\n",
       "      <th></th>\n",
       "      <th>House ID</th>\n",
       "      <th>Price (K)</th>\n",
       "      <th>Size (sqm)</th>\n",
       "      <th>Mid Family</th>\n",
       "    </tr>\n",
       "  </thead>\n",
       "  <tbody>\n",
       "    <tr>\n",
       "      <th>0</th>\n",
       "      <td>1</td>\n",
       "      <td>135</td>\n",
       "      <td>120</td>\n",
       "      <td>N</td>\n",
       "    </tr>\n",
       "    <tr>\n",
       "      <th>1</th>\n",
       "      <td>2</td>\n",
       "      <td>560</td>\n",
       "      <td>600</td>\n",
       "      <td>N</td>\n",
       "    </tr>\n",
       "    <tr>\n",
       "      <th>2</th>\n",
       "      <td>3</td>\n",
       "      <td>290</td>\n",
       "      <td>200</td>\n",
       "      <td>Y</td>\n",
       "    </tr>\n",
       "    <tr>\n",
       "      <th>3</th>\n",
       "      <td>4</td>\n",
       "      <td>650</td>\n",
       "      <td>230</td>\n",
       "      <td>N</td>\n",
       "    </tr>\n",
       "    <tr>\n",
       "      <th>4</th>\n",
       "      <td>5</td>\n",
       "      <td>320</td>\n",
       "      <td>340</td>\n",
       "      <td>Y</td>\n",
       "    </tr>\n",
       "    <tr>\n",
       "      <th>5</th>\n",
       "      <td>6</td>\n",
       "      <td>120</td>\n",
       "      <td>450</td>\n",
       "      <td>N</td>\n",
       "    </tr>\n",
       "    <tr>\n",
       "      <th>6</th>\n",
       "      <td>7</td>\n",
       "      <td>440</td>\n",
       "      <td>320</td>\n",
       "      <td>Y</td>\n",
       "    </tr>\n",
       "    <tr>\n",
       "      <th>7</th>\n",
       "      <td>8</td>\n",
       "      <td>510</td>\n",
       "      <td>110</td>\n",
       "      <td>N</td>\n",
       "    </tr>\n",
       "    <tr>\n",
       "      <th>8</th>\n",
       "      <td>9</td>\n",
       "      <td>250</td>\n",
       "      <td>500</td>\n",
       "      <td>N</td>\n",
       "    </tr>\n",
       "    <tr>\n",
       "      <th>9</th>\n",
       "      <td>10</td>\n",
       "      <td>380</td>\n",
       "      <td>220</td>\n",
       "      <td>Y</td>\n",
       "    </tr>\n",
       "  </tbody>\n",
       "</table>\n",
       "</div>"
      ],
      "text/plain": [
       "   House ID  Price (K)  Size (sqm) Mid Family\n",
       "0         1        135         120          N\n",
       "1         2        560         600          N\n",
       "2         3        290         200          Y\n",
       "3         4        650         230          N\n",
       "4         5        320         340          Y\n",
       "5         6        120         450          N\n",
       "6         7        440         320          Y\n",
       "7         8        510         110          N\n",
       "8         9        250         500          N\n",
       "9        10        380         220          Y"
      ]
     },
     "execution_count": 1,
     "metadata": {},
     "output_type": "execute_result"
    }
   ],
   "source": [
    "import numpy as np\n",
    "import pandas as pd\n",
    "import seaborn as sn\n",
    "import matplotlib.pyplot as plt\n",
    "from matplotlib.patches import Rectangle\n",
    "\n",
    "# Manual input of data\n",
    "data = {'House ID': [1, 2, 3, 4, 5, 6, 7, 8, 9,  10],\n",
    "     'Price (K)': [135, 560, 290, 650, 320, 120, 440, 510, 250, 380],\n",
    "     'Size (sqm)': [120, 600, 200, 230, 340, 450, 320, 110, 500, 220],\n",
    "     'Mid Family': ['N', 'N', 'Y', 'N', 'Y', 'N', 'Y', 'N', 'N', 'Y']}\n",
    "\n",
    "# Reading in the dataframe\n",
    "df = pd.DataFrame(data)\n",
    "df"
   ]
  },
  {
   "cell_type": "markdown",
   "id": "c265d5c5",
   "metadata": {},
   "source": [
    "### Define the most specific hypothesis S. Use algebraic expression to define the hypothesis. Define the most general hypothesis G. Use algebraic expression to define the hypothesis."
   ]
  },
  {
   "cell_type": "code",
   "execution_count": 2,
   "id": "d45536b8",
   "metadata": {},
   "outputs": [
    {
     "data": {
      "image/png": "[encoded data removed]",
      "text/plain": [
       "<Figure size 432x288 with 1 Axes>"
      ]
     },
     "metadata": {
      "needs_background": "light"
     },
     "output_type": "display_data"
    }
   ],
   "source": [
    "# Establishing the axis for the plot\n",
    "price = df['Price (K)']\n",
    "size = df['Size (sqm)']\n",
    "fig = plt.figure()\n",
    "ax = fig.add_axes([0,0,1,1])\n",
    "\n",
    "# Creating a scatter plot based on the columns we determined to use\n",
    "ax.scatter(price, size)\n",
    "ax.set_xlabel('Price (K)')\n",
    "ax.set_ylabel('Size (sqm)')\n",
    "ax.set_title('Hypothesis S')\n",
    "\n",
    "# Defining and plotting the hypothesis S: [280 <= Price <= 450 & 190 <= Size <= 350]\n",
    "ax.add_patch(Rectangle((280, 190), 170, 160, edgecolor = 'blue', facecolor = 'blue', alpha=0.2, lw=1))\n",
    "\n",
    "\n",
    "# Defining and plotting the hypothesis G based off hypothesis S: [125 <= Price <= 645 & 130 <= Size <= 460]\n",
    "ax.add_patch(Rectangle((125, 130), 520, 330, edgecolor = 'red', facecolor = 'red', alpha=0.2, lw=1))\n",
    "\n",
    "plt.show()"
   ]
  },
  {
   "cell_type": "markdown",
   "id": "91f5a1e7",
   "metadata": {},
   "source": [
    "The range of values that were chosen for the h(S) consisted of looking at which values in the data set were considered to be true. This was a small amount and could be clustered to one particular area and made it easy for determining the bounadaries of the Range. For h(G) on the other hand we determined from the outer boundaries of the points that were not mid-sized family and assumed maxium distance from hypothesis S providing us with the general space."
   ]
  },
  {
   "cell_type": "markdown",
   "id": "4b57f1f9",
   "metadata": {},
   "source": [
    "### Assuming the most general hypothesis, give an answer if the following case is FP, FN, TP, or TN."
   ]
  },
  {
   "cell_type": "markdown",
   "id": "595fae63",
   "metadata": {},
   "source": [
    "a. P= 330 and S=220 and Mid Family = Yes -> TP in the h(S), is true and says true\n",
    "\n",
    "b. P= 500 and S= 550 and Mid Family = Yes -> FP out the h(G), is false but says true\n",
    "\n",
    "c. P= 600 and S=400 and Mid Family = No -> FN in the h(G), is true but says false\n",
    "\n",
    "d. P= 600 and S=550 and Mid Family = No -> TN out the h(G), is false and says false"
   ]
  },
  {
   "cell_type": "markdown",
   "id": "b26bfa81",
   "metadata": {},
   "source": [
    "### Assuming a model, we got the following results with a test dataset. Calculate Recall, Precision, Accuracy, False Positive Rate, and F1 Score."
   ]
  },
  {
   "cell_type": "markdown",
   "id": "d2a7d025",
   "metadata": {},
   "source": [
    "N = 15\n",
    "Total (TP = 110, TN = 75, FP = 15, FN = 15)\n",
    "\n",
    "Recall = ((110) / (110 + 15)) -> 0.88\n",
    "\n",
    "Precision = ((75) / (75 + 15)) -> 0.83ˇ\n",
    "\n",
    "Accuracy = (110 + 75) / ((110 + 15) + (15 + 75)) -> 0.86\n",
    "\n",
    "False Positive Rate = ((15) / (15 + 110)) -> 0.12\n",
    "\n",
    "F1 Score = (2 * 0.83 * 0.88) / (0.83 + 0.88) -> 0.85"
   ]
  }
 ],
 "metadata": {
  "kernelspec": {
   "display_name": "Python 3 (ipykernel)",
   "language": "python",
   "name": "python3"
  },
  "language_info": {
   "codemirror_mode": {
    "name": "ipython",
    "version": 3
   },
   "file_extension": ".py",
   "mimetype": "text/x-python",
   "name": "python",
   "nbconvert_exporter": "python",
   "pygments_lexer": "ipython3",
   "version": "3.9.12"
  }
 },
 "nbformat": 4,
 "nbformat_minor": 5
}
