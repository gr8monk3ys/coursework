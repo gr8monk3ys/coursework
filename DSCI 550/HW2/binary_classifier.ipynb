{
 "cells": [
  {
   "cell_type": "code",
   "execution_count": 1,
   "id": "c2bb0b56",
   "metadata": {},
   "outputs": [
    {
     "data": {
      "text/html": [
       "<div>\n",
       "<style scoped>\n",
       "    .dataframe tbody tr th:only-of-type {\n",
       "        vertical-align: middle;\n",
       "    }\n",
       "\n",
       "    .dataframe tbody tr th {\n",
       "        vertical-align: top;\n",
       "    }\n",
       "\n",
       "    .dataframe thead th {\n",
       "        text-align: right;\n",
       "    }\n",
       "</style>\n",
       "<table border=\"1\" class=\"dataframe\">\n",
       "  <thead>\n",
       "    <tr style=\"text-align: right;\">\n",
       "      <th></th>\n",
       "      <th>HW</th>\n",
       "      <th>Midterm</th>\n",
       "      <th>Final</th>\n",
       "      <th>Pass/Fail</th>\n",
       "    </tr>\n",
       "  </thead>\n",
       "  <tbody>\n",
       "    <tr>\n",
       "      <th>0</th>\n",
       "      <td>80</td>\n",
       "      <td>72</td>\n",
       "      <td>62</td>\n",
       "      <td>f</td>\n",
       "    </tr>\n",
       "    <tr>\n",
       "      <th>1</th>\n",
       "      <td>63</td>\n",
       "      <td>77</td>\n",
       "      <td>67</td>\n",
       "      <td>f</td>\n",
       "    </tr>\n",
       "    <tr>\n",
       "      <th>2</th>\n",
       "      <td>77</td>\n",
       "      <td>83</td>\n",
       "      <td>68</td>\n",
       "      <td>f</td>\n",
       "    </tr>\n",
       "    <tr>\n",
       "      <th>3</th>\n",
       "      <td>91</td>\n",
       "      <td>73</td>\n",
       "      <td>78</td>\n",
       "      <td>f</td>\n",
       "    </tr>\n",
       "    <tr>\n",
       "      <th>4</th>\n",
       "      <td>92</td>\n",
       "      <td>86</td>\n",
       "      <td>70</td>\n",
       "      <td>f</td>\n",
       "    </tr>\n",
       "  </tbody>\n",
       "</table>\n",
       "</div>"
      ],
      "text/plain": [
       "   HW  Midterm  Final Pass/Fail\n",
       "0  80       72     62         f\n",
       "1  63       77     67         f\n",
       "2  77       83     68         f\n",
       "3  91       73     78         f\n",
       "4  92       86     70         f"
      ]
     },
     "execution_count": 1,
     "metadata": {},
     "output_type": "execute_result"
    }
   ],
   "source": [
    "import numpy as np\n",
    "import pandas as pd\n",
    "import seaborn as sn\n",
    "import statsmodels.api as sm\n",
    "import matplotlib.pyplot as plt\n",
    "from sklearn.metrics import confusion_matrix\n",
    "from sklearn.preprocessing import StandardScaler\n",
    "from sklearn.linear_model import LogisticRegression  \n",
    "from sklearn.model_selection import train_test_split\n",
    "\n",
    "# Create the data frame from the excel sheet\n",
    "df = pd.read_excel('Grade.xlsx')\n",
    "df.head()"
   ]
  },
  {
   "cell_type": "code",
   "execution_count": 2,
   "id": "a5aae5ac",
   "metadata": {},
   "outputs": [
    {
     "data": {
      "text/plain": [
       "p    18\n",
       "f     9\n",
       "Name: Pass/Fail, dtype: int64"
      ]
     },
     "execution_count": 2,
     "metadata": {},
     "output_type": "execute_result"
    }
   ],
   "source": [
    "# Set variables we want to use for our classifier\n",
    "x = df[['Midterm', 'Final']]\n",
    "y = df['Pass/Fail']\n",
    "\n",
    "# print(model.summary())\n",
    "df['Pass/Fail'].value_counts()"
   ]
  },
  {
   "cell_type": "code",
   "execution_count": 3,
   "id": "6d4a40d8",
   "metadata": {},
   "outputs": [
    {
     "data": {
      "text/plain": [
       "LogisticRegression(random_state=0)"
      ]
     },
     "execution_count": 3,
     "metadata": {},
     "output_type": "execute_result"
    }
   ],
   "source": [
    "# Split the train and test data\n",
    "x_train, x_test, y_train, y_test = train_test_split(x, y, test_size = 0.2, random_state = 0)\n",
    "\n",
    "# Scale the data to ensure optimal fitting\n",
    "s_train = StandardScaler()\n",
    "x_train = s_train.fit_transform(x_train)\n",
    "\n",
    "s_test = StandardScaler()\n",
    "x_test = s_test.fit_transform(x_test)\n",
    "\n",
    "# Creating a Logistic Regression model  \n",
    "model = LogisticRegression(random_state = 0)\n",
    "  \n",
    "# Fitting the dataset to the logistic regression model  \n",
    "model.fit(x_train, y_train)  "
   ]
  },
  {
   "cell_type": "code",
   "execution_count": 4,
   "id": "cba674fc",
   "metadata": {},
   "outputs": [],
   "source": [
    "# Make predictions from model\n",
    "predictions = model.predict(x_test)"
   ]
  },
  {
   "cell_type": "code",
   "execution_count": 5,
   "id": "7562c025",
   "metadata": {},
   "outputs": [
    {
     "name": "stdout",
     "output_type": "stream",
     "text": [
      "True Positive:  4\n",
      "True Negative:  2\n",
      "False Positive:  0\n",
      "False Negative:  0\n"
     ]
    }
   ],
   "source": [
    "# Make the confusion matrix\n",
    "cm = confusion_matrix(y_test, predictions)\n",
    "\n",
    "TN, FP, FN, TP = confusion_matrix(y_test, predictions).ravel()\n",
    "\n",
    "print('True Positive: ', TP)\n",
    "print('True Negative: ', TN)\n",
    "print('False Positive: ', FP)\n",
    "print('False Negative: ', FN)"
   ]
  },
  {
   "cell_type": "code",
   "execution_count": 6,
   "id": "2f2758a5",
   "metadata": {},
   "outputs": [
    {
     "name": "stdout",
     "output_type": "stream",
     "text": [
      "Accuracy: 1.0\n"
     ]
    }
   ],
   "source": [
    "# Determining the accuracy by calculating it\n",
    "accuracy =  (TP + TN) / (TP + FP + TN + FN)\n",
    "\n",
    "print('Accuracy: {}'.format(accuracy))"
   ]
  },
  {
   "cell_type": "markdown",
   "id": "852d5b7f",
   "metadata": {},
   "source": [
    "### You have the following 18 transactions from a supermarket. Suppose that the minimum support is 4 (count). Using the Apriori algorithm, find all frequent item sets. Show your work step by step."
   ]
  },
  {
   "cell_type": "code",
   "execution_count": 7,
   "id": "f8b312bc",
   "metadata": {},
   "outputs": [
    {
     "data": {
      "text/html": [
       "<div>\n",
       "<style scoped>\n",
       "    .dataframe tbody tr th:only-of-type {\n",
       "        vertical-align: middle;\n",
       "    }\n",
       "\n",
       "    .dataframe tbody tr th {\n",
       "        vertical-align: top;\n",
       "    }\n",
       "\n",
       "    .dataframe thead th {\n",
       "        text-align: right;\n",
       "    }\n",
       "</style>\n",
       "<table border=\"1\" class=\"dataframe\">\n",
       "  <thead>\n",
       "    <tr style=\"text-align: right;\">\n",
       "      <th></th>\n",
       "      <th>0</th>\n",
       "      <th>1</th>\n",
       "      <th>2</th>\n",
       "      <th>3</th>\n",
       "    </tr>\n",
       "  </thead>\n",
       "  <tbody>\n",
       "    <tr>\n",
       "      <th>ac</th>\n",
       "      <td>7</td>\n",
       "      <td>14</td>\n",
       "      <td>17</td>\n",
       "      <td>18</td>\n",
       "    </tr>\n",
       "    <tr>\n",
       "      <th>ad</th>\n",
       "      <td>1</td>\n",
       "      <td>7</td>\n",
       "      <td>14</td>\n",
       "      <td>18</td>\n",
       "    </tr>\n",
       "    <tr>\n",
       "      <th>cd</th>\n",
       "      <td>2</td>\n",
       "      <td>7</td>\n",
       "      <td>14</td>\n",
       "      <td>18</td>\n",
       "    </tr>\n",
       "    <tr>\n",
       "      <th>ce</th>\n",
       "      <td>2</td>\n",
       "      <td>5</td>\n",
       "      <td>9</td>\n",
       "      <td>11</td>\n",
       "    </tr>\n",
       "    <tr>\n",
       "      <th>cf</th>\n",
       "      <td>3</td>\n",
       "      <td>13</td>\n",
       "      <td>14</td>\n",
       "      <td>17</td>\n",
       "    </tr>\n",
       "  </tbody>\n",
       "</table>\n",
       "</div>"
      ],
      "text/plain": [
       "    0   1   2   3\n",
       "ac  7  14  17  18\n",
       "ad  1   7  14  18\n",
       "cd  2   7  14  18\n",
       "ce  2   5   9  11\n",
       "cf  3  13  14  17"
      ]
     },
     "execution_count": 7,
     "metadata": {},
     "output_type": "execute_result"
    }
   ],
   "source": [
    "# We want to find the frequent item sets so by counting every letter / letter collection and storing the index, we could\n",
    "# count the number of unique instances those indeces occur\n",
    "\n",
    "# Example: a & c are found simultaneously on index 7 but also found on index 14, 17, and 18. We can do this for all other\n",
    "# combinations as well\n",
    "\n",
    "data = {'ac': [7, 14, 17, 18],\n",
    " 'ad': [1, 7, 14, 18],\n",
    " 'cd': [2, 7, 14, 18],\n",
    " 'ce': [2, 5, 9, 11],\n",
    " 'cf': [3, 13, 14, 17],\n",
    " 'dc': [2, 7, 14, 18],\n",
    " 'ec': [2, 5, 9, 11],\n",
    " 'fc': [3, 13, 14, 17]}\n",
    "\n",
    "# Convert the data into a pandas data frame\n",
    "df = pd.DataFrame(data)\n",
    "\n",
    "# Transpose the dataframe for dropping duplicates\n",
    "df = df.T\n",
    "\n",
    "# Drop any columns that are duplicate\n",
    "df = df.drop_duplicates()\n",
    "df\n",
    "\n",
    "# This shows that there are only unique instances of values with a minimum support of 4(count)"
   ]
  }
 ],
 "metadata": {
  "kernelspec": {
   "display_name": "Python 3 (ipykernel)",
   "language": "python",
   "name": "python3"
  },
  "language_info": {
   "codemirror_mode": {
    "name": "ipython",
    "version": 3
   },
   "file_extension": ".py",
   "mimetype": "text/x-python",
   "name": "python",
   "nbconvert_exporter": "python",
   "pygments_lexer": "ipython3",
   "version": "3.9.12"
  }
 },
 "nbformat": 4,
 "nbformat_minor": 5
}
